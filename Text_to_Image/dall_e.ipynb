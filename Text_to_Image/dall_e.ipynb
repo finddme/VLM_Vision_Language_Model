{
 "cells": [
  {
   "cell_type": "code",
   "execution_count": 1,
   "id": "046ca8ad-be3b-4ce0-89cc-0f5a3611d1b3",
   "metadata": {},
   "outputs": [],
   "source": [
    "from openai import OpenAI\n",
    "client = OpenAI(api_key=\"\")\n",
    "# import openai, os\n",
    "# Openai_API_KEY = \"sk-proj-CFsSaackBkfJnN8eAtCDT3BlbkFJaFtkZfjEcubhPJ7pX3sA\"\n",
    "# openai.api_key =os.getenv(Openai_API_KEY)\n",
    "\n",
    "response = client.images.generate(\n",
    "  model=\"dall-e-3\",\n",
    "  prompt=\"a white siamese cat\",\n",
    "  size=\"1024x1024\",\n",
    "  quality=\"standard\",\n",
    "  n=1,\n",
    ")\n",
    "\n",
    "image_url = response.data[0].url"
   ]
  },
  {
   "cell_type": "code",
   "execution_count": 2,
   "id": "540c7024-69c5-4fe0-8173-6513ba52a3fd",
   "metadata": {},
   "outputs": [
    {
     "data": {
      "text/plain": [
       "'https://oaidalleapiprodscus.blob.core.windows.net/private/org-a3lec72z8X1IvqdivLQvvBfr/user-HuYEUNMZDXf4uhHnDzPISmCO/img-Ns44Uu5kWP30QDhTRjjtgUqs.png?st=2024-07-18T05%3A49%3A44Z&se=2024-07-18T07%3A49%3A44Z&sp=r&sv=2023-11-03&sr=b&rscd=inline&rsct=image/png&skoid=6aaadede-4fb3-4698-a8f6-684d7786b067&sktid=a48cca56-e6da-484e-a814-9c849652bcb3&skt=2024-07-17T13%3A35%3A25Z&ske=2024-07-18T13%3A35%3A25Z&sks=b&skv=2023-11-03&sig=/C5uKJnUgE4P9b2kscVp4ssUlp6POaW05qidEce7FZM%3D'"
      ]
     },
     "execution_count": 2,
     "metadata": {},
     "output_type": "execute_result"
    }
   ],
   "source": [
    "image_url"
   ]
  },
  {
   "cell_type": "code",
   "execution_count": null,
   "id": "6e556c61-cae0-4650-99f7-a2965a5d5cfe",
   "metadata": {},
   "outputs": [],
   "source": []
  }
 ],
 "metadata": {
  "kernelspec": {
   "display_name": "Python 3 (ipykernel)",
   "language": "python",
   "name": "python3"
  },
  "language_info": {
   "codemirror_mode": {
    "name": "ipython",
    "version": 3
   },
   "file_extension": ".py",
   "mimetype": "text/x-python",
   "name": "python",
   "nbconvert_exporter": "python",
   "pygments_lexer": "ipython3",
   "version": "3.10.12"
  }
 },
 "nbformat": 4,
 "nbformat_minor": 5
}
